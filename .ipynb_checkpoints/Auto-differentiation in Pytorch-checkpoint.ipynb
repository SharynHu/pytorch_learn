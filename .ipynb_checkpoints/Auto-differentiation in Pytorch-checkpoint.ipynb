{
 "cells": [
  {
   "cell_type": "markdown",
   "metadata": {},
   "source": [
    "Pytorch provide an API `torch.autograd` for automatic differentiation. This notebook contains mainly 7 parts:\n",
    "1. `torch.autograd.function`\n",
    "2. `torch.autograd.functional`\n",
    "3. `torch.autograd.gradcheck`\n",
    "4. `torch.autograd.anomaly_node`\n",
    "5. `torch.autograd.grad_mode`\n",
    "6. `model.eval()` and `torch.no_grad()`\n",
    "6. `torch.autograd.profiler`"
   ]
  },
  {
   "cell_type": "code",
   "execution_count": null,
   "metadata": {},
   "outputs": [],
   "source": []
  }
 ],
 "metadata": {
  "kernelspec": {
   "display_name": "pytorch",
   "language": "python",
   "name": "pytorch"
  },
  "language_info": {
   "codemirror_mode": {
    "name": "ipython",
    "version": 3
   },
   "file_extension": ".py",
   "mimetype": "text/x-python",
   "name": "python",
   "nbconvert_exporter": "python",
   "pygments_lexer": "ipython3",
   "version": "3.7.6"
  }
 },
 "nbformat": 4,
 "nbformat_minor": 4
}
