{
 "cells": [
  {
   "cell_type": "markdown",
   "metadata": {},
   "source": [
    "Pytorch provide an API `torch.autograd` for automatic differentiation. This notebook contains mainly 7 parts:\n",
    "1. `torch.autograd.function`\n",
    "2. `torch.autograd.functional`\n",
    "3. `torch.autograd.gradcheck`\n",
    "4. `torch.autograd.anomaly_node`\n",
    "5. `torch.autograd.grad_mode`\n",
    "6. `model.eval()` and `torch.no_grad()`\n",
    "6. `torch.autograd.profiler`"
   ]
  },
  {
   "cell_type": "code",
   "execution_count": 1,
   "metadata": {},
   "outputs": [],
   "source": [
    "import torch"
   ]
  },
  {
   "cell_type": "code",
   "execution_count": 2,
   "metadata": {},
   "outputs": [],
   "source": [
    "from torch.autograd.function import Function"
   ]
  },
  {
   "cell_type": "code",
   "execution_count": 24,
   "metadata": {},
   "outputs": [],
   "source": [
    "class Exp(Function):                    # 此层计算e^x\n",
    "\n",
    "    @staticmethod\n",
    "    def forward(ctx, i):                # 模型前向\n",
    "        print(\"forward begins\")\n",
    "        result = i.exp()\n",
    "        ctx.save_for_backward(result)   # 保存所需内容，以备backward时使用，所需的结果会被保存在saved_tensors元组中；此处仅能保存tensor类型变量，若其余类型变量（Int等），可直接赋予ctx作为成员变量，也可以达到保存效果\n",
    "        print(ctx)\n",
    "        return result\n",
    "\n",
    "    @staticmethod\n",
    "    def backward(ctx, grad_output):     # 模型梯度反传\n",
    "        print(\"backward begins\")\n",
    "        result, = ctx.saved_tensors     # 取出forward中保存的result\n",
    "        print(ctx, grad_output)\n",
    "        return grad_output * result     # 计算梯度并返回"
   ]
  },
  {
   "cell_type": "code",
   "execution_count": 25,
   "metadata": {},
   "outputs": [
    {
     "name": "stdout",
     "output_type": "stream",
     "text": [
      "forward begins\n",
      "<torch.autograd.function.ExpBackward object at 0x7fc52e322910>\n"
     ]
    }
   ],
   "source": [
    "x = torch.tensor([1.], requires_grad = True)\n",
    "y = 2*x + 1\n",
    "ret = Exp.apply(y)"
   ]
  },
  {
   "cell_type": "code",
   "execution_count": 26,
   "metadata": {},
   "outputs": [
    {
     "name": "stdout",
     "output_type": "stream",
     "text": [
      "tensor([1.]) True None None True\n"
     ]
    }
   ],
   "source": [
    "print(x.data, x.requires_grad, x.grad, x.grad_fn, x.is_leaf)"
   ]
  },
  {
   "cell_type": "code",
   "execution_count": 27,
   "metadata": {},
   "outputs": [
    {
     "name": "stdout",
     "output_type": "stream",
     "text": [
      "tensor([3.]) True None <AddBackward0 object at 0x7fc52e396190> False\n"
     ]
    }
   ],
   "source": [
    "print(y.data, y.requires_grad, y.grad, y.grad_fn, y.is_leaf)"
   ]
  },
  {
   "cell_type": "code",
   "execution_count": 28,
   "metadata": {},
   "outputs": [
    {
     "name": "stdout",
     "output_type": "stream",
     "text": [
      "tensor([20.0855]) True None <torch.autograd.function.ExpBackward object at 0x7fc52e322910> False\n",
      "<bound method Tensor.backward of tensor([20.0855], grad_fn=<ExpBackward>)>\n"
     ]
    }
   ],
   "source": [
    "print(ret.data, ret.requires_grad, ret.grad, ret.grad_fn, ret.is_leaf)\n",
    "print(ret.backward)"
   ]
  },
  {
   "cell_type": "code",
   "execution_count": 29,
   "metadata": {},
   "outputs": [
    {
     "name": "stdout",
     "output_type": "stream",
     "text": [
      "backward begins\n",
      "<torch.autograd.function.ExpBackward object at 0x7fc52e322910> tensor([1.])\n"
     ]
    }
   ],
   "source": [
    "ret.backward()"
   ]
  },
  {
   "cell_type": "code",
   "execution_count": 20,
   "metadata": {},
   "outputs": [
    {
     "name": "stdout",
     "output_type": "stream",
     "text": [
      "tensor([20.0855], grad_fn=<ExpBackward>)\n"
     ]
    }
   ],
   "source": []
  },
  {
   "cell_type": "code",
   "execution_count": 23,
   "metadata": {},
   "outputs": [
    {
     "name": "stdout",
     "output_type": "stream",
     "text": [
      "tensor([40.1711]) None None\n"
     ]
    }
   ],
   "source": [
    "print(x.grad, y.grad, ret.grad)"
   ]
  },
  {
   "cell_type": "code",
   "execution_count": 22,
   "metadata": {},
   "outputs": [
    {
     "name": "stdout",
     "output_type": "stream",
     "text": [
      "None\n"
     ]
    }
   ],
   "source": []
  },
  {
   "cell_type": "code",
   "execution_count": null,
   "metadata": {},
   "outputs": [],
   "source": []
  }
 ],
 "metadata": {
  "kernelspec": {
   "display_name": "pytorch",
   "language": "python",
   "name": "pytorch"
  },
  "language_info": {
   "codemirror_mode": {
    "name": "ipython",
    "version": 3
   },
   "file_extension": ".py",
   "mimetype": "text/x-python",
   "name": "python",
   "nbconvert_exporter": "python",
   "pygments_lexer": "ipython3",
   "version": "3.7.6"
  }
 },
 "nbformat": 4,
 "nbformat_minor": 4
}
